{
 "cells": [
  {
   "cell_type": "code",
   "execution_count": 81,
   "metadata": {},
   "outputs": [],
   "source": [
    "import GetOldTweets3 as got\n",
    "import pandas as pd\n",
    "from textblob import TextBlob\n",
    "import numpy as np\n",
    "import re"
   ]
  },
  {
   "cell_type": "code",
   "execution_count": 82,
   "metadata": {},
   "outputs": [],
   "source": [
    "# create a function to extract twitter information into a pandas df\n",
    "class TweetAnalyzer():\n",
    "    \"\"\"\n",
    "    Functionality for analyzing and categorizing content from tweets.\n",
    "    \"\"\"\n",
    "\n",
    "    def clean_tweet(self, tweet):\n",
    "        return ' '.join(re.sub(\"(@[A-Za-z0-9]+)|([^0-9A-Za-z \\t])|(\\w+:\\/\\/\\S+)\", \" \", tweet).split())\n",
    "\n",
    "    def analyze_sentiment(self, tweet):\n",
    "        analysis = TextBlob(self.clean_tweet(tweet))\n",
    "\n",
    "        if analysis.sentiment.polarity > 0:\n",
    "            return 1\n",
    "        elif analysis.sentiment.polarity == 0:\n",
    "            return 0\n",
    "        else:\n",
    "            return -1\n",
    "\n",
    "    def get_twitter_info(self, tweets):\n",
    "        tweet_df[\"tweet_text\"] = pd.DataFrame(\n",
    "            data=[tweet_df[\"got_criteria\"].apply(lambda x: x.text) for tweet in tweets], \\\n",
    "            columns=['tweets'])\n",
    "        tweet_df[\"date\"] = np.array([tweet_df[\"got_criteria\"].apply(lambda x: x.date) for tweet in tweets])\n",
    "\n",
    "        return tweet_df"
   ]
  },
  {
   "cell_type": "code",
   "execution_count": 83,
   "metadata": {},
   "outputs": [],
   "source": [
    "keyword = \"American Express\"\n",
    "oldest_date = \"2019-11-01\"    \n",
    "newest_date = \"2020-01-31\"\n",
    "number_tweets = 20"
   ]
  },
  {
   "cell_type": "code",
   "execution_count": null,
   "metadata": {},
   "outputs": [],
   "source": [
    "keyword = \"American Express\"\n",
    "oldest_date = \"2019-11-01\"\n",
    "newest_date = \"2020-01-31\"\n",
    "number_tweets = 20\n",
    "\n",
    "\n",
    "#get old tweets\n",
    "tweet_criteria = got.manager.TweetCriteria().setQuerySearch(keyword)\\\n",
    "                                            .setSince(oldest_date)\\\n",
    "                                            .setUntil(newest_date)\\\n",
    "                                            .setMaxTweets(number_tweets)\n",
    "#extract twitter information\n",
    "tweet_analyzer = TweetAnalyzer()\n",
    "tweet_df = pd.DataFrame({'got_criteria':got.manager.TweetManager.getTweets(tweet_criteria)})\n",
    "get_twitter_info()\n",
    "tweet_df = tweet_df.drop(\"got_criteria\", 1)\n",
    "tweet_df['sentiment'] = np.array([tweet_analyzer.analyze_sentiment(tweet) for tweet in tweet_df['tweet_text']])\n",
    "tweet_df.to_excel(\"amex_senti_untitled3_data\")\n"
   ]
  },
  {
   "cell_type": "code",
   "execution_count": null,
   "metadata": {},
   "outputs": [],
   "source": []
  },
  {
   "cell_type": "code",
   "execution_count": null,
   "metadata": {},
   "outputs": [],
   "source": []
  }
 ],
 "metadata": {
  "kernelspec": {
   "display_name": "Python 3",
   "language": "python",
   "name": "python3"
  },
  "language_info": {
   "codemirror_mode": {
    "name": "ipython",
    "version": 3
   },
   "file_extension": ".py",
   "mimetype": "text/x-python",
   "name": "python",
   "nbconvert_exporter": "python",
   "pygments_lexer": "ipython3",
   "version": "3.7.6"
  }
 },
 "nbformat": 4,
 "nbformat_minor": 4
}
